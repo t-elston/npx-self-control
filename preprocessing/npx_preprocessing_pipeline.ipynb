{
 "cells": [
  {
   "cell_type": "code",
   "execution_count": null,
   "metadata": {},
   "outputs": [],
   "source": [
    "import self_control_preprocessing_functions as prep\n",
    "#from pathlib import Path\n",
    "import importlib\n",
    "importlib.reload(prep)\n"
   ]
  },
  {
   "cell_type": "code",
   "execution_count": null,
   "metadata": {},
   "outputs": [],
   "source": [
    "# path to high level folder containing all raw data for this recording\n",
    "base_folder = 'E:/D20231219_Rec05_g0/'\n",
    "\n",
    "# where do we want the final data for this run to save?\n",
    "save_dir = 'C:/Users/Thomas Elston/Documents/PYTHON/self_control/data/'"
   ]
  },
  {
   "cell_type": "code",
   "execution_count": null,
   "metadata": {},
   "outputs": [],
   "source": [
    "# now extract the behavior associated with this recording\n",
    "prep.extract_behavior_from_h5(base_folder)"
   ]
  },
  {
   "cell_type": "code",
   "execution_count": null,
   "metadata": {},
   "outputs": [],
   "source": [
    "# now run extract the spikes and save everything\n",
    "spike_params = {}\n",
    "spike_params['t_offset'] = 1025\n",
    "spike_params['step_size'] = 25\n",
    "spike_params['win_size'] = 100\n",
    "spike_params['align_event'] = 40\n",
    "\n",
    "prep.make_spike_tables_and_combine_data(base_folder, save_dir, spike_params)"
   ]
  }
 ],
 "metadata": {
  "kernelspec": {
   "display_name": "base",
   "language": "python",
   "name": "python3"
  },
  "language_info": {
   "codemirror_mode": {
    "name": "ipython",
    "version": 3
   },
   "file_extension": ".py",
   "mimetype": "text/x-python",
   "name": "python",
   "nbconvert_exporter": "python",
   "pygments_lexer": "ipython3",
   "version": "3.11.5"
  }
 },
 "nbformat": 4,
 "nbformat_minor": 2
}
